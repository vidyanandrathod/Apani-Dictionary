{
 "cells": [
  {
   "cell_type": "code",
   "execution_count": 1,
   "id": "2c34ff6b",
   "metadata": {},
   "outputs": [],
   "source": [
    "# Design a calculator which will correctly solve all the problems except the following ones\n",
    "# 45 * 3 =555, 56+9 = 77, 56/6 = 4\n",
    "# your program should take operator and the two numbers as input from the user\n",
    "# and then return the result\n"
   ]
  },
  {
   "cell_type": "code",
   "execution_count": 4,
   "id": "32ef2748",
   "metadata": {},
   "outputs": [
    {
     "name": "stdout",
     "output_type": "stream",
     "text": [
      "Enter your 1st number :50\n",
      "Enter your 2nd number :3\n",
      "50 X 3 = 150\n",
      "50 + 3 = 53\n",
      "50 / 3 = 16.67\n"
     ]
    }
   ],
   "source": [
    "num1 =int(input(\"Enter your 1st number :\"))\n",
    "num2 =int(input('Enter your 2nd number :'))\n",
    "if num1==45 and num2==3:\n",
    "    print(num1,'X',num2,'=','555')\n",
    "elif num1==56 and num2==9:\n",
    "    print(num1,'+',num2,'=','77')\n",
    "elif num1==56 and num2==6:\n",
    "    print(num1,'/',num2,'=','4')\n",
    "else:\n",
    "    print(num1,'X',num2,'=',num1*num2)\n",
    "    print(num1,'+',num2,'=',num1+num2)\n",
    "    print(num1,'/',num2,'=',round(num1/num2,2))\n",
    "    "
   ]
  },
  {
   "cell_type": "code",
   "execution_count": null,
   "id": "2ac246c1",
   "metadata": {},
   "outputs": [],
   "source": []
  }
 ],
 "metadata": {
  "kernelspec": {
   "display_name": "Python 3 (ipykernel)",
   "language": "python",
   "name": "python3"
  },
  "language_info": {
   "codemirror_mode": {
    "name": "ipython",
    "version": 3
   },
   "file_extension": ".py",
   "mimetype": "text/x-python",
   "name": "python",
   "nbconvert_exporter": "python",
   "pygments_lexer": "ipython3",
   "version": "3.9.7"
  }
 },
 "nbformat": 4,
 "nbformat_minor": 5
}
