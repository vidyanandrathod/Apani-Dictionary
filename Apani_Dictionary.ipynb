{
 "cells": [
  {
   "cell_type": "code",
   "execution_count": 1,
   "id": "ce7cb598",
   "metadata": {},
   "outputs": [
    {
     "name": "stdout",
     "output_type": "stream",
     "text": [
      "Welcome To My Dictionary\n",
      "{'Tuple': 'Immutable', 'list': 'It is sequence data types', 'Python': 'It is programming language', 'hello': 'Namskar'}\n",
      "Enter Your Word :list\n",
      "Meaning of list = It is sequence data types\n"
     ]
    }
   ],
   "source": [
    "print('Welcome To My Dictionary')\n",
    "dict1 ={'Tuple':'Immutable','list':'It is sequence data types','Python':'It is programming language','hello':'Namskar'}\n",
    "print(dict1)\n",
    "word =input(\"Enter Your Word :\")\n",
    "print('Meaning of',word,'=',dict1[word])"
   ]
  },
  {
   "cell_type": "code",
   "execution_count": null,
   "id": "67895964",
   "metadata": {},
   "outputs": [],
   "source": []
  },
  {
   "cell_type": "code",
   "execution_count": null,
   "id": "a9af402b",
   "metadata": {},
   "outputs": [],
   "source": []
  }
 ],
 "metadata": {
  "kernelspec": {
   "display_name": "Python 3 (ipykernel)",
   "language": "python",
   "name": "python3"
  },
  "language_info": {
   "codemirror_mode": {
    "name": "ipython",
    "version": 3
   },
   "file_extension": ".py",
   "mimetype": "text/x-python",
   "name": "python",
   "nbconvert_exporter": "python",
   "pygments_lexer": "ipython3",
   "version": "3.9.7"
  }
 },
 "nbformat": 4,
 "nbformat_minor": 5
}
